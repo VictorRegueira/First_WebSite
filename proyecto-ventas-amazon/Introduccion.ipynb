{
  "cells": [
    {
      "cell_type": "markdown",
      "metadata": {
        "id": "view-in-github",
        "colab_type": "text"
      },
      "source": [
        "<a href=\"https://colab.research.google.com/github/VictorRegueira/First_WebSite/blob/master/proyecto-ventas-amazon/Introduccion.ipynb\" target=\"_parent\"><img src=\"https://colab.research.google.com/assets/colab-badge.svg\" alt=\"Open In Colab\"/></a>"
      ]
    },
    {
      "cell_type": "markdown",
      "metadata": {
        "id": "hv-FTwyWCt3G"
      },
      "source": [
        "# Proyecto"
      ]
    },
    {
      "cell_type": "markdown",
      "source": [
        "## Conexión a Google Drive"
      ],
      "metadata": {
        "id": "cBNMGsm3NeJS"
      }
    },
    {
      "cell_type": "code",
      "source": [
        "from google.colab import drive\n",
        "drive.mount('/content/drive')"
      ],
      "metadata": {
        "colab": {
          "base_uri": "https://localhost:8080/"
        },
        "id": "xvUba9EFCyzK",
        "outputId": "aeaea0c9-6462-44dc-ee8f-f9bcbc4d6d3e"
      },
      "execution_count": 14,
      "outputs": [
        {
          "output_type": "stream",
          "name": "stdout",
          "text": [
            "Drive already mounted at /content/drive; to attempt to forcibly remount, call drive.mount(\"/content/drive\", force_remount=True).\n"
          ]
        }
      ]
    },
    {
      "cell_type": "markdown",
      "metadata": {
        "id": "fZpnhqE9Ct3N"
      },
      "source": [
        "## Importando Librerías"
      ]
    },
    {
      "cell_type": "code",
      "execution_count": 37,
      "metadata": {
        "id": "G_iTRvnKCt3R"
      },
      "outputs": [],
      "source": [
        "import numpy as np # linear algebra\n",
        "import pandas as pd # data processing, CSV file I/O (e.g. pd.read_csv)\n",
        "import matplotlib.pyplot as plt\n",
        "import seaborn as sns\n",
        "%matplotlib inline"
      ]
    },
    {
      "cell_type": "markdown",
      "source": [
        "## Leyendo información"
      ],
      "metadata": {
        "id": "Gc8hrU1XNwpk"
      }
    },
    {
      "cell_type": "code",
      "source": [
        "df = pd.read_csv('abs083122 - clear.csv')"
      ],
      "metadata": {
        "id": "MZ8z1SJSN49g"
      },
      "execution_count": 23,
      "outputs": []
    },
    {
      "cell_type": "markdown",
      "metadata": {
        "id": "PaqlfhiLCt3V"
      },
      "source": [
        "## Preparación de datos"
      ]
    },
    {
      "cell_type": "code",
      "source": [
        "df.shape"
      ],
      "metadata": {
        "colab": {
          "base_uri": "https://localhost:8080/"
        },
        "id": "IFfe47b8DK7J",
        "outputId": "8e32dbae-a223-4df9-eae5-d2bbac45388c"
      },
      "execution_count": 27,
      "outputs": [
        {
          "output_type": "execute_result",
          "data": {
            "text/plain": [
              "(1450, 8)"
            ]
          },
          "metadata": {},
          "execution_count": 27
        }
      ]
    },
    {
      "cell_type": "markdown",
      "source": [
        "En este dataset tenemos 1450 registros y 8 columnas"
      ],
      "metadata": {
        "id": "03s7hazlO3Bd"
      }
    },
    {
      "cell_type": "code",
      "source": [
        "df.head()"
      ],
      "metadata": {
        "colab": {
          "base_uri": "https://localhost:8080/",
          "height": 372
        },
        "id": "La70F8VlD7aZ",
        "outputId": "a468ad10-d564-4b85-9fbd-595b8f61f9d1"
      },
      "execution_count": 25,
      "outputs": [
        {
          "output_type": "execute_result",
          "data": {
            "text/plain": [
              "   Unnamed: 0                                       product_name  \\\n",
              "0           0  Fire TV Stick with Alexa Voice Remote (include...   \n",
              "1           1  Fire TV Stick 4K Max streaming device, Wi-Fi 6...   \n",
              "2           2  Blink Mini – Compact indoor plug-in smart secu...   \n",
              "3           3               Introducing Blink Video Doorbell - P   \n",
              "4           4  All-new Ring Video Doorbell (2nd Gen) – 1080p ...   \n",
              "\n",
              "                       category categoryRank noRatings              cost  \\\n",
              "0  Amazon Devices & Accessories           #1   272,861            $24.99   \n",
              "1  Amazon Devices & Accessories           #2    74,819            $39.99   \n",
              "2  Amazon Devices & Accessories           #3   204,768   $34.99 - $49.99   \n",
              "3  Amazon Devices & Accessories           #4    60,414  $39.99 - $179.98   \n",
              "4  Amazon Devices & Accessories           #5   117,364  $84.99 - $164.98   \n",
              "\n",
              "                                          REVIEWLIST  \\\n",
              "0  [{'review_meta': 'Reviewed in the United State...   \n",
              "1  [{'review_meta': 'Reviewed in the United State...   \n",
              "2  [{'review_meta': 'Reviewed in the United State...   \n",
              "3  [{'review_meta': 'Reviewed in the United State...   \n",
              "4  [{'review_meta': 'Reviewed in the United State...   \n",
              "\n",
              "                                         product_url  \n",
              "0  https://www.amazon.com/fire-tv-stick-with-3rd-...  \n",
              "1  https://www.amazon.com/fire-tv-stick-4k-max-wi...  \n",
              "2  https://www.amazon.com/Blink-Mini-plug-securit...  \n",
              "3  https://www.amazon.com/Introducing-Blink-Video...  \n",
              "4  https://www.amazon.com/All-new-Ring-Video-Door...  "
            ],
            "text/html": [
              "\n",
              "  <div id=\"df-2a00c44b-03e2-4d47-8a21-e855b8a571a3\">\n",
              "    <div class=\"colab-df-container\">\n",
              "      <div>\n",
              "<style scoped>\n",
              "    .dataframe tbody tr th:only-of-type {\n",
              "        vertical-align: middle;\n",
              "    }\n",
              "\n",
              "    .dataframe tbody tr th {\n",
              "        vertical-align: top;\n",
              "    }\n",
              "\n",
              "    .dataframe thead th {\n",
              "        text-align: right;\n",
              "    }\n",
              "</style>\n",
              "<table border=\"1\" class=\"dataframe\">\n",
              "  <thead>\n",
              "    <tr style=\"text-align: right;\">\n",
              "      <th></th>\n",
              "      <th>Unnamed: 0</th>\n",
              "      <th>product_name</th>\n",
              "      <th>category</th>\n",
              "      <th>categoryRank</th>\n",
              "      <th>noRatings</th>\n",
              "      <th>cost</th>\n",
              "      <th>REVIEWLIST</th>\n",
              "      <th>product_url</th>\n",
              "    </tr>\n",
              "  </thead>\n",
              "  <tbody>\n",
              "    <tr>\n",
              "      <th>0</th>\n",
              "      <td>0</td>\n",
              "      <td>Fire TV Stick with Alexa Voice Remote (include...</td>\n",
              "      <td>Amazon Devices &amp; Accessories</td>\n",
              "      <td>#1</td>\n",
              "      <td>272,861</td>\n",
              "      <td>$24.99</td>\n",
              "      <td>[{'review_meta': 'Reviewed in the United State...</td>\n",
              "      <td>https://www.amazon.com/fire-tv-stick-with-3rd-...</td>\n",
              "    </tr>\n",
              "    <tr>\n",
              "      <th>1</th>\n",
              "      <td>1</td>\n",
              "      <td>Fire TV Stick 4K Max streaming device, Wi-Fi 6...</td>\n",
              "      <td>Amazon Devices &amp; Accessories</td>\n",
              "      <td>#2</td>\n",
              "      <td>74,819</td>\n",
              "      <td>$39.99</td>\n",
              "      <td>[{'review_meta': 'Reviewed in the United State...</td>\n",
              "      <td>https://www.amazon.com/fire-tv-stick-4k-max-wi...</td>\n",
              "    </tr>\n",
              "    <tr>\n",
              "      <th>2</th>\n",
              "      <td>2</td>\n",
              "      <td>Blink Mini – Compact indoor plug-in smart secu...</td>\n",
              "      <td>Amazon Devices &amp; Accessories</td>\n",
              "      <td>#3</td>\n",
              "      <td>204,768</td>\n",
              "      <td>$34.99 - $49.99</td>\n",
              "      <td>[{'review_meta': 'Reviewed in the United State...</td>\n",
              "      <td>https://www.amazon.com/Blink-Mini-plug-securit...</td>\n",
              "    </tr>\n",
              "    <tr>\n",
              "      <th>3</th>\n",
              "      <td>3</td>\n",
              "      <td>Introducing Blink Video Doorbell - P</td>\n",
              "      <td>Amazon Devices &amp; Accessories</td>\n",
              "      <td>#4</td>\n",
              "      <td>60,414</td>\n",
              "      <td>$39.99 - $179.98</td>\n",
              "      <td>[{'review_meta': 'Reviewed in the United State...</td>\n",
              "      <td>https://www.amazon.com/Introducing-Blink-Video...</td>\n",
              "    </tr>\n",
              "    <tr>\n",
              "      <th>4</th>\n",
              "      <td>4</td>\n",
              "      <td>All-new Ring Video Doorbell (2nd Gen) – 1080p ...</td>\n",
              "      <td>Amazon Devices &amp; Accessories</td>\n",
              "      <td>#5</td>\n",
              "      <td>117,364</td>\n",
              "      <td>$84.99 - $164.98</td>\n",
              "      <td>[{'review_meta': 'Reviewed in the United State...</td>\n",
              "      <td>https://www.amazon.com/All-new-Ring-Video-Door...</td>\n",
              "    </tr>\n",
              "  </tbody>\n",
              "</table>\n",
              "</div>\n",
              "      <button class=\"colab-df-convert\" onclick=\"convertToInteractive('df-2a00c44b-03e2-4d47-8a21-e855b8a571a3')\"\n",
              "              title=\"Convert this dataframe to an interactive table.\"\n",
              "              style=\"display:none;\">\n",
              "        \n",
              "  <svg xmlns=\"http://www.w3.org/2000/svg\" height=\"24px\"viewBox=\"0 0 24 24\"\n",
              "       width=\"24px\">\n",
              "    <path d=\"M0 0h24v24H0V0z\" fill=\"none\"/>\n",
              "    <path d=\"M18.56 5.44l.94 2.06.94-2.06 2.06-.94-2.06-.94-.94-2.06-.94 2.06-2.06.94zm-11 1L8.5 8.5l.94-2.06 2.06-.94-2.06-.94L8.5 2.5l-.94 2.06-2.06.94zm10 10l.94 2.06.94-2.06 2.06-.94-2.06-.94-.94-2.06-.94 2.06-2.06.94z\"/><path d=\"M17.41 7.96l-1.37-1.37c-.4-.4-.92-.59-1.43-.59-.52 0-1.04.2-1.43.59L10.3 9.45l-7.72 7.72c-.78.78-.78 2.05 0 2.83L4 21.41c.39.39.9.59 1.41.59.51 0 1.02-.2 1.41-.59l7.78-7.78 2.81-2.81c.8-.78.8-2.07 0-2.86zM5.41 20L4 18.59l7.72-7.72 1.47 1.35L5.41 20z\"/>\n",
              "  </svg>\n",
              "      </button>\n",
              "      \n",
              "  <style>\n",
              "    .colab-df-container {\n",
              "      display:flex;\n",
              "      flex-wrap:wrap;\n",
              "      gap: 12px;\n",
              "    }\n",
              "\n",
              "    .colab-df-convert {\n",
              "      background-color: #E8F0FE;\n",
              "      border: none;\n",
              "      border-radius: 50%;\n",
              "      cursor: pointer;\n",
              "      display: none;\n",
              "      fill: #1967D2;\n",
              "      height: 32px;\n",
              "      padding: 0 0 0 0;\n",
              "      width: 32px;\n",
              "    }\n",
              "\n",
              "    .colab-df-convert:hover {\n",
              "      background-color: #E2EBFA;\n",
              "      box-shadow: 0px 1px 2px rgba(60, 64, 67, 0.3), 0px 1px 3px 1px rgba(60, 64, 67, 0.15);\n",
              "      fill: #174EA6;\n",
              "    }\n",
              "\n",
              "    [theme=dark] .colab-df-convert {\n",
              "      background-color: #3B4455;\n",
              "      fill: #D2E3FC;\n",
              "    }\n",
              "\n",
              "    [theme=dark] .colab-df-convert:hover {\n",
              "      background-color: #434B5C;\n",
              "      box-shadow: 0px 1px 3px 1px rgba(0, 0, 0, 0.15);\n",
              "      filter: drop-shadow(0px 1px 2px rgba(0, 0, 0, 0.3));\n",
              "      fill: #FFFFFF;\n",
              "    }\n",
              "  </style>\n",
              "\n",
              "      <script>\n",
              "        const buttonEl =\n",
              "          document.querySelector('#df-2a00c44b-03e2-4d47-8a21-e855b8a571a3 button.colab-df-convert');\n",
              "        buttonEl.style.display =\n",
              "          google.colab.kernel.accessAllowed ? 'block' : 'none';\n",
              "\n",
              "        async function convertToInteractive(key) {\n",
              "          const element = document.querySelector('#df-2a00c44b-03e2-4d47-8a21-e855b8a571a3');\n",
              "          const dataTable =\n",
              "            await google.colab.kernel.invokeFunction('convertToInteractive',\n",
              "                                                     [key], {});\n",
              "          if (!dataTable) return;\n",
              "\n",
              "          const docLinkHtml = 'Like what you see? Visit the ' +\n",
              "            '<a target=\"_blank\" href=https://colab.research.google.com/notebooks/data_table.ipynb>data table notebook</a>'\n",
              "            + ' to learn more about interactive tables.';\n",
              "          element.innerHTML = '';\n",
              "          dataTable['output_type'] = 'display_data';\n",
              "          await google.colab.output.renderOutput(dataTable, element);\n",
              "          const docLink = document.createElement('div');\n",
              "          docLink.innerHTML = docLinkHtml;\n",
              "          element.appendChild(docLink);\n",
              "        }\n",
              "      </script>\n",
              "    </div>\n",
              "  </div>\n",
              "  "
            ]
          },
          "metadata": {},
          "execution_count": 25
        }
      ]
    },
    {
      "cell_type": "code",
      "source": [
        "df.info()"
      ],
      "metadata": {
        "id": "p01UwflqPOcd",
        "outputId": "21ff184a-a672-4d1c-ee2e-dba9f887030f",
        "colab": {
          "base_uri": "https://localhost:8080/"
        }
      },
      "execution_count": 29,
      "outputs": [
        {
          "output_type": "stream",
          "name": "stdout",
          "text": [
            "<class 'pandas.core.frame.DataFrame'>\n",
            "RangeIndex: 1450 entries, 0 to 1449\n",
            "Data columns (total 8 columns):\n",
            " #   Column        Non-Null Count  Dtype \n",
            "---  ------        --------------  ----- \n",
            " 0   Unnamed: 0    1450 non-null   int64 \n",
            " 1   product_name  1448 non-null   object\n",
            " 2   category      1450 non-null   object\n",
            " 3   categoryRank  1448 non-null   object\n",
            " 4   noRatings     1450 non-null   object\n",
            " 5   cost          1450 non-null   object\n",
            " 6   REVIEWLIST    1450 non-null   object\n",
            " 7   product_url   1448 non-null   object\n",
            "dtypes: int64(1), object(7)\n",
            "memory usage: 90.8+ KB\n"
          ]
        }
      ]
    },
    {
      "cell_type": "markdown",
      "source": [
        "Tenemos 8 variables disponibles"
      ],
      "metadata": {
        "id": "szoe_CupPRcO"
      }
    },
    {
      "cell_type": "markdown",
      "source": [
        "## Análisis de Nulos"
      ],
      "metadata": {
        "id": "KNgRVQEWPqy2"
      }
    },
    {
      "cell_type": "code",
      "source": [
        "df.isna().sum().sort_values(ascending = False)"
      ],
      "metadata": {
        "colab": {
          "base_uri": "https://localhost:8080/"
        },
        "id": "nGi7oBUAEV38",
        "outputId": "97756595-7ff6-408b-cdab-d6ee19e12eb6"
      },
      "execution_count": 34,
      "outputs": [
        {
          "output_type": "execute_result",
          "data": {
            "text/plain": [
              "product_name    2\n",
              "categoryRank    2\n",
              "product_url     2\n",
              "Unnamed: 0      0\n",
              "category        0\n",
              "noRatings       0\n",
              "cost            0\n",
              "REVIEWLIST      0\n",
              "dtype: int64"
            ]
          },
          "metadata": {},
          "execution_count": 34
        }
      ]
    },
    {
      "cell_type": "code",
      "source": [
        "print(f'Number of categories: {df.category.nunique()}')\n",
        "plt.figure(figsize=(20,10))\n",
        "sns.countplot(data=df,x='category',palette='Set2');\n",
        "plt.xticks(rotation=90);"
      ],
      "metadata": {
        "id": "FXRu6PWNQX72",
        "outputId": "66824bca-52fc-4f33-a699-bf8d7c837d4b",
        "colab": {
          "base_uri": "https://localhost:8080/",
          "height": 733
        }
      },
      "execution_count": 39,
      "outputs": [
        {
          "output_type": "stream",
          "name": "stdout",
          "text": [
            "Number of categories: 39\n"
          ]
        },
        {
          "output_type": "display_data",
          "data": {
            "text/plain": [
              "<Figure size 1440x720 with 1 Axes>"
            ],
            "image/png": "[encoded data removed]"
          },
          "metadata": {
            "needs_background": "light"
          }
        }
      ]
    }
  ],
  "metadata": {
    "kernelspec": {
      "display_name": "Python 3.10.6 64-bit",
      "language": "python",
      "name": "python3"
    },
    "language_info": {
      "codemirror_mode": {
        "name": "ipython",
        "version": 3
      },
      "file_extension": ".py",
      "mimetype": "text/x-python",
      "name": "python",
      "nbconvert_exporter": "python",
      "pygments_lexer": "ipython3",
      "version": "3.10.6"
    },
    "orig_nbformat": 4,
    "vscode": {
      "interpreter": {
        "hash": "b27fa327a95f0eef0f878177ae37ed790559c26732ddc28a8c687325a6119dd9"
      }
    },
    "colab": {
      "provenance": [],
      "collapsed_sections": [],
      "toc_visible": true,
      "include_colab_link": true
    }
  },
  "nbformat": 4,
  "nbformat_minor": 0
}